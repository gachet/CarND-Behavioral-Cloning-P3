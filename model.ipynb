{
 "cells": [
  {
   "cell_type": "markdown",
   "metadata": {},
   "source": [
    "Let's import everything at the begining (My past as a C/C++ programmer betrays me)"
   ]
  },
  {
   "cell_type": "code",
   "execution_count": 1,
   "metadata": {
    "collapsed": true
   },
   "outputs": [],
   "source": [
    "import data_augmentation_toolkit as data_aug\n",
    "import numpy as np\n",
    "import pylab as plt\n",
    "import pandas as pd\n",
    "import pickle\n",
    "import random\n",
    "import math\n",
    "import os\n",
    "\n",
    "from scipy.misc import imread\n",
    "from random import shuffle\n",
    "\n",
    "%matplotlib inline"
   ]
  },
  {
   "cell_type": "code",
   "execution_count": 2,
   "metadata": {
    "collapsed": true
   },
   "outputs": [],
   "source": [
    "from IPython.core.debugger import Tracer;"
   ]
  },
  {
   "cell_type": "code",
   "execution_count": 3,
   "metadata": {
    "collapsed": false
   },
   "outputs": [
    {
     "name": "stderr",
     "output_type": "stream",
     "text": [
      "Using TensorFlow backend.\n"
     ]
    }
   ],
   "source": [
    "from keras.models import Sequential\n",
    "from keras.layers.core import Dense, Activation, Flatten, Dropout, Lambda\n",
    "from keras.layers.convolutional import Convolution2D\n",
    "from keras.layers.pooling import MaxPooling2D\n",
    "\n",
    "from keras.callbacks import ModelCheckpoint, LearningRateScheduler, EarlyStopping, ReduceLROnPlateau\n",
    "from keras.preprocessing.image import ImageDataGenerator\n",
    "from keras.optimizers import Adam"
   ]
  },
  {
   "cell_type": "markdown",
   "metadata": {},
   "source": [
    "Create an initial model. I don't agree to much with the idea of doing subsampling (stride>1) in the convolutional layers, as I read in multiple places that is more destructive than using a pooling layer after the convolutional one without subsampling, but let's give it an oportunity."
   ]
  },
  {
   "cell_type": "markdown",
   "metadata": {},
   "source": [
    "### Model definition"
   ]
  },
  {
   "cell_type": "code",
   "execution_count": 4,
   "metadata": {
    "collapsed": false
   },
   "outputs": [],
   "source": [
    "def get_model_nvidia(image_shape):\n",
    "    \"\"\"\n",
    "    End to End Learning for Self-Driving Cars\n",
    "    http://images.nvidia.com/content/tegra/automotive/images/2016/solutions/pdf/end-to-end-dl-using-px.pdf\n",
    "    \n",
    "    No info is provided for activations, hence I choose RELU\n",
    "    \"\"\"\n",
    "    \n",
    "\n",
    "    '''\n",
    "    def normalize(x, a, b):\n",
    "        x = x.astype(np.float32)\n",
    "        return a + (x-x.min())*(b-a)/(x.max() - x.min())\n",
    "    '''\n",
    "    \n",
    "    model = Sequential()\n",
    "    \n",
    "    # Use a lambda layer to normalize the input data\n",
    "    #model.add(Lambda(lambda x: normalize(x, 0, 1), input_shape=image_shape, output_shape=image_shape))\n",
    "    # Removed Lambda layer. Seems to add more troubles than it helps.\n",
    "    model.add(Convolution2D(nb_filter=24, nb_row=5, nb_col=5, border_mode='valid', subsample=(2,2), input_shape=image_shape))\n",
    "    model.add(Activation('relu'))\n",
    "    model.add(Convolution2D(nb_filter=36, nb_row=5, nb_col=5, border_mode='valid', subsample=(2,2)))\n",
    "    model.add(Activation('relu'))\n",
    "    model.add(Convolution2D(nb_filter=48, nb_row=5, nb_col=5, border_mode='valid', subsample=(2,2)))\n",
    "    model.add(Activation('relu'))\n",
    "    model.add(Convolution2D(nb_filter=64, nb_row=3, nb_col=3, border_mode='valid'))\n",
    "    model.add(Activation('relu'))\n",
    "    model.add(Convolution2D(nb_filter=64, nb_row=3, nb_col=3, border_mode='valid'))\n",
    "    model.add(Activation('relu'))\n",
    "    model.add(Flatten())\n",
    "    model.add(Dense(1164))\n",
    "    model.add(Activation('relu'))     \n",
    "    model.add(Dense(100))\n",
    "    model.add(Activation('relu'))\n",
    "    model.add(Dense(50))\n",
    "    model.add(Activation('relu'))\n",
    "    model.add(Dense(10))\n",
    "    model.add(Activation('relu'))\n",
    "    model.add(Dense(1))\n",
    "    \n",
    "    return model"
   ]
  },
  {
   "cell_type": "markdown",
   "metadata": {},
   "source": [
    "Maybe I want to play with optimizers later, but for the moment, a standard adam should be more than fine"
   ]
  },
  {
   "cell_type": "code",
   "execution_count": 5,
   "metadata": {
    "collapsed": false
   },
   "outputs": [],
   "source": [
    "def get_optimizer():\n",
    "    return Adam()"
   ]
  },
  {
   "cell_type": "markdown",
   "metadata": {},
   "source": [
    "### Training options"
   ]
  },
  {
   "cell_type": "code",
   "execution_count": 6,
   "metadata": {
    "collapsed": true
   },
   "outputs": [],
   "source": [
    "path2models = \"./models/model.{epoch:02d}-{val_loss:.3f}.h5\"\n",
    "\n",
    "os.makedirs('./models', exist_ok=True)\n",
    "\n",
    "\n",
    "def train_model(train_gen, val_gen, batch_size, epochs, model, \\\n",
    "                optimizer=None, limit_train=None, limit_val=None):\n",
    "    \n",
    "    if optimizer:\n",
    "        model.compile(optimizer=optimizer, loss=\"mse\")\n",
    "    else:\n",
    "        model.compile(optimizer=\"adam\", loss=\"mse\") # This is a nice optimizer to be left as default\n",
    "        \n",
    "    # Callbacks\n",
    "    reduce_lr_on_plateau = ReduceLROnPlateau(factor=0.5, patience=3, cooldown=3, min_lr=1e-5)\n",
    "    checkpoint = ModelCheckpoint(filepath=path2models)\n",
    "    early_stopping = EarlyStopping(min_delta=1e-3, patience=7)\n",
    "    \n",
    "    ls_callbacks = [checkpoint, reduce_lr_on_plateau, early_stopping]\n",
    "    \n",
    "        \n",
    "    samples_per_epoch = limit_train if limit_train else batch_size*math.ceil(train_gen.get_epoch_size()/batch_size)\n",
    "    nb_epoch = epochs\n",
    "    nb_val_samples = limit_val if limit_val else val_gen.get_epoch_size()\n",
    "    history = model.fit_generator(train_gen, samples_per_epoch, nb_epoch, \\\n",
    "                                  nb_val_samples=nb_val_samples, validation_data=val_gen, callbacks=ls_callbacks)\n",
    "    \n",
    "    return history, model"
   ]
  },
  {
   "cell_type": "markdown",
   "metadata": {},
   "source": [
    "### Generator definition"
   ]
  },
  {
   "cell_type": "code",
   "execution_count": 17,
   "metadata": {
    "collapsed": false
   },
   "outputs": [],
   "source": [
    "# Prepare the data with a python generator so we can do data augmentation on the fly\n",
    "\n",
    "class My_dataset_gen():\n",
    "    \"\"\"\n",
    "    To be strict, My_dataset_gen is not a real generator (does not call yield) but an iterator\n",
    "    \"\"\"\n",
    "    def __init__(self, \n",
    "                 path2csv,\n",
    "                 path2prob_tools,\n",
    "                 batch_size,\n",
    "                 training=True):\n",
    "        \n",
    "        self.batch_size = batch_size\n",
    "        \n",
    "        # Load the CSV\n",
    "        df = pd.read_csv(path2csv)\n",
    "        self.dataset = df.to_dict(orient='records') # This is a list of dict\n",
    "        \n",
    "        self.position = 0\n",
    "        self.size_epoch = len(self.dataset)\n",
    "        self.training = training\n",
    "        \n",
    "        self.max_perturbation = 0.02 # This is a really small perturbation that will be added to the steering angle.\n",
    "        # Not enough to damage the behaviour of the model, but enough to add some variety.\n",
    "        \n",
    "        self.camera = {'left_camera': -0.2, 'right_camera': 0.2, 'center_camera': 0} # Pseudo camera position \n",
    "        # and corresponding steering angle's offsets\n",
    "        self.pseudo_shift_value = 50\n",
    "        \n",
    "        # Angle-preserving transformations\n",
    "        self.angle_preserving = [data_aug.salt_and_pepper, data_aug.bilateral_filter, data_aug.speckle_noise, \\\n",
    "                                 data_aug.random_light, data_aug.random_shadow, data_aug.histogram_equalization, \\\n",
    "                                 data_aug.identity]\n",
    "        # Load probability tools\n",
    "        prob_tools = pickle.load(open(path2prob_tools, 'rb'))\n",
    "        self.bins = prob_tools['bins']\n",
    "        self.converter = prob_tools['converter']\n",
    "        \n",
    "    def __iter__(self):\n",
    "        return self\n",
    "    \n",
    "    def __next__(self):\n",
    "\n",
    "        number_of_samples = 0\n",
    "        X_l = list()\n",
    "        Y_l = list()\n",
    "        \n",
    "        while number_of_samples < self.batch_size:\n",
    "            if self.position == self.size_epoch:\n",
    "                shuffle(self.dataset)\n",
    "                self.position = 0\n",
    "                \n",
    "            sample = self.dataset[self.position]\n",
    "            \n",
    "            image = imread(sample['Updated image path'])\n",
    "            image = self._vertical_crop(image)\n",
    "            angle = sample['Steering angle']*random.uniform(-1, 1)*self.max_perturbation\n",
    "            \n",
    "            if self.training:\n",
    "                image, angle = self._random_transform(image, angle)\n",
    "                prob_appearance = self._angle2probability(angle) # The random transformation can change angle's bin\n",
    "                rand_val = random.random()\n",
    "            \n",
    "                if rand_val <= 1-prob_appearance: # This way we eliminate biases toward more frequent values\n",
    "                # E.g. prob_appearance = 0.25. This means it appears  only 25% of the times in the dataset\n",
    "                # but I want to balance it, so I do 1-0.25= 0.75. Comparing with a random value between 0 and 1, this sample \n",
    "                # will be used (with data augmentation techniques) the 75% of the times. Category samples with a high \n",
    "                # prob_appearance will be more likely rejected, but because of there are more samples of that \n",
    "                # category doesn't matter. On average all categories should be balanced.\n",
    "                    \n",
    "                    image = self._normalize(image)\n",
    "\n",
    "                    X_l.append(image)\n",
    "                    Y_l.append(angle)\n",
    "                    number_of_samples += 1\n",
    "                    \n",
    "            else:                    \n",
    "                image = self._normalize(image)\n",
    "                image = data_aug.pseudo_shift(image, 'center_camera', self.pseudo_shift_value)\n",
    "                \n",
    "                X_l.append(image)\n",
    "                Y_l.append(angle)\n",
    "                number_of_samples += 1\n",
    "                \n",
    "                \n",
    "            self.position += 1\n",
    "            \n",
    "        #Tracer()()\n",
    "        X = np.array(X_l) # Current shape follows tf dim_ordering: (samples, height, width, channels)\n",
    "        Y = np.array(Y_l)\n",
    "        \n",
    "        return (X,Y)\n",
    "            \n",
    "    \n",
    "    def _normalize(self, x, a=0, b=1):\n",
    "        x = x.astype(np.float32)\n",
    "        return a + (x-x.min())*(b-a)/(x.max() - x.min())\n",
    "    \n",
    "    def _vertical_crop(self, x):\n",
    "        \"\"\"\n",
    "        Input shape (160, 320, 3)\n",
    "        Ouput shape (90, 320, 3)\n",
    "        \"\"\"\n",
    "        return x[60:150, :] # See Explore dataset + Experimental setup.ipynb \n",
    "        # Original x[60:150, :], updated to x[60:150, :] seems to be a better option in order to remove remaining clutter.\n",
    "\n",
    "    def _random_transform(self, image, angle):\n",
    "        # We are always going to choose a random angle-preserving transformation (the identity is included) and\n",
    "        # after that a non-angle-preserving transformation the half of the time.\n",
    "        \n",
    "        # Angle-preserving transformation\n",
    "        image = random.choice(self.angle_preserving)(image)\n",
    "        \n",
    "        # Non-angle-preserving transformation\n",
    "        \n",
    "        if random.random() >= 0.5:\n",
    "            image = data_aug.horizontal_flipping(image)\n",
    "            angle = -angle\n",
    "        \n",
    "        # With the next 3 lines we can add more recovery data simulating different camera positions\n",
    "        camera_position = random.choice(list(self.camera.keys()))\n",
    "        image = data_aug.pseudo_shift(image, camera_position, self.pseudo_shift_value)\n",
    "        angle += self.camera[camera_position]\n",
    "            \n",
    "        return image, angle\n",
    "    \n",
    "    def _angle2probability(self, angle):\n",
    "        bi = int(np.digitize(angle, self.bins))\n",
    "        if bi == 21: # to avoid edges issues\n",
    "            bi = 20\n",
    "        return self.converter[bi]\n",
    "    \n",
    "    def get_original_image_shape(self):\n",
    "        temp = imread(self.dataset[0]['Updated image path'])\n",
    "        return temp.shape\n",
    "\n",
    "    def get_input_image_shape(self):\n",
    "        \"\"\"\n",
    "        This function returns the shape of the transformed image, i.e. the one that will be the input to the net.\n",
    "        \"\"\"\n",
    "        temp = imread(self.dataset[0]['Updated image path'])\n",
    "        \n",
    "        shape = list(self._vertical_crop(temp).shape)\n",
    "        shape[1] -= self.pseudo_shift_value # Because of data_aug.pseudo_shift\n",
    "        \n",
    "        return tuple(shape)\n",
    "    \n",
    "        \n",
    "    def get_epoch_size(self):\n",
    "        return self.size_epoch"
   ]
  },
  {
   "cell_type": "markdown",
   "metadata": {},
   "source": [
    "# Let's perform a quick test to see if all the pieces work"
   ]
  },
  {
   "cell_type": "code",
   "execution_count": 18,
   "metadata": {
    "collapsed": false
   },
   "outputs": [],
   "source": [
    "path2dataset = \"/mnt/Behavioral-Cloning-Dataset/\"\n",
    "path2csv_training = path2dataset + \"driving_log_training.csv\"\n",
    "path2csv_validation = path2dataset + \"driving_log_validation.csv\"\n",
    "path2prob_tools = path2dataset + \"prob_tools.pkl\"\n",
    "\n",
    "batch_size = 2\n",
    "epochs = 2\n",
    "limit_train = 10\n",
    "limit_val = 10\n",
    "\n",
    "train_gen = My_dataset_gen(path2csv_training, path2prob_tools, batch_size)\n",
    "val_gen = My_dataset_gen(path2csv_validation, path2prob_tools, batch_size, training=False)"
   ]
  },
  {
   "cell_type": "code",
   "execution_count": 19,
   "metadata": {
    "collapsed": false
   },
   "outputs": [
    {
     "name": "stdout",
     "output_type": "stream",
     "text": [
      "Number of training samples: 40892\n",
      "Number of validation samples: 10224\n",
      "Shape of the original images:  (160, 320, 3)\n",
      "Shape of the processed images:  (90, 270, 3)\n"
     ]
    }
   ],
   "source": [
    "# Let's visualize some statistics about the dataset\n",
    "\n",
    "print(\"Number of training samples: %d\" % (train_gen.get_epoch_size()))\n",
    "print(\"Number of validation samples: %d\" % (val_gen.get_epoch_size()))\n",
    "print(\"Shape of the original images: \", train_gen.get_original_image_shape())\n",
    "print(\"Shape of the processed images: \", train_gen.get_input_image_shape())"
   ]
  },
  {
   "cell_type": "code",
   "execution_count": 20,
   "metadata": {
    "collapsed": false
   },
   "outputs": [
    {
     "name": "stdout",
     "output_type": "stream",
     "text": [
      "____________________________________________________________________________________________________\n",
      "Layer (type)                     Output Shape          Param #     Connected to                     \n",
      "====================================================================================================\n",
      "convolution2d_11 (Convolution2D) (None, 43, 133, 24)   1824        convolution2d_input_3[0][0]      \n",
      "____________________________________________________________________________________________________\n",
      "activation_19 (Activation)       (None, 43, 133, 24)   0           convolution2d_11[0][0]           \n",
      "____________________________________________________________________________________________________\n",
      "convolution2d_12 (Convolution2D) (None, 20, 65, 36)    21636       activation_19[0][0]              \n",
      "____________________________________________________________________________________________________\n",
      "activation_20 (Activation)       (None, 20, 65, 36)    0           convolution2d_12[0][0]           \n",
      "____________________________________________________________________________________________________\n",
      "convolution2d_13 (Convolution2D) (None, 8, 31, 48)     43248       activation_20[0][0]              \n",
      "____________________________________________________________________________________________________\n",
      "activation_21 (Activation)       (None, 8, 31, 48)     0           convolution2d_13[0][0]           \n",
      "____________________________________________________________________________________________________\n",
      "convolution2d_14 (Convolution2D) (None, 6, 29, 64)     27712       activation_21[0][0]              \n",
      "____________________________________________________________________________________________________\n",
      "activation_22 (Activation)       (None, 6, 29, 64)     0           convolution2d_14[0][0]           \n",
      "____________________________________________________________________________________________________\n",
      "convolution2d_15 (Convolution2D) (None, 4, 27, 64)     36928       activation_22[0][0]              \n",
      "____________________________________________________________________________________________________\n",
      "activation_23 (Activation)       (None, 4, 27, 64)     0           convolution2d_15[0][0]           \n",
      "____________________________________________________________________________________________________\n",
      "flatten_3 (Flatten)              (None, 6912)          0           activation_23[0][0]              \n",
      "____________________________________________________________________________________________________\n",
      "dense_11 (Dense)                 (None, 1164)          8046732     flatten_3[0][0]                  \n",
      "____________________________________________________________________________________________________\n",
      "activation_24 (Activation)       (None, 1164)          0           dense_11[0][0]                   \n",
      "____________________________________________________________________________________________________\n",
      "dense_12 (Dense)                 (None, 100)           116500      activation_24[0][0]              \n",
      "____________________________________________________________________________________________________\n",
      "activation_25 (Activation)       (None, 100)           0           dense_12[0][0]                   \n",
      "____________________________________________________________________________________________________\n",
      "dense_13 (Dense)                 (None, 50)            5050        activation_25[0][0]              \n",
      "____________________________________________________________________________________________________\n",
      "activation_26 (Activation)       (None, 50)            0           dense_13[0][0]                   \n",
      "____________________________________________________________________________________________________\n",
      "dense_14 (Dense)                 (None, 10)            510         activation_26[0][0]              \n",
      "____________________________________________________________________________________________________\n",
      "activation_27 (Activation)       (None, 10)            0           dense_14[0][0]                   \n",
      "____________________________________________________________________________________________________\n",
      "dense_15 (Dense)                 (None, 1)             11          activation_27[0][0]              \n",
      "====================================================================================================\n",
      "Total params: 8,300,151\n",
      "Trainable params: 8,300,151\n",
      "Non-trainable params: 0\n",
      "____________________________________________________________________________________________________\n"
     ]
    }
   ],
   "source": [
    "model = get_model_nvidia(train_gen.get_input_image_shape())\n",
    "optimizer = get_optimizer()\n",
    "\n",
    "# Just have a look at our model before training:\n",
    "model.summary()"
   ]
  },
  {
   "cell_type": "code",
   "execution_count": 21,
   "metadata": {
    "collapsed": false
   },
   "outputs": [
    {
     "name": "stdout",
     "output_type": "stream",
     "text": [
      "Epoch 1/2\n",
      "10/10 [==============================] - 1s - loss: 0.1114 - val_loss: 0.0096\n",
      "Epoch 2/2\n",
      "10/10 [==============================] - 1s - loss: 0.0319 - val_loss: 0.0015\n"
     ]
    }
   ],
   "source": [
    "history, model = train_model(train_gen, val_gen, batch_size, epochs, model, optimizer, limit_train, limit_val)\n",
    "# There is no need to save the model. It's already saved by the callbacks provided in fit_generator"
   ]
  },
  {
   "cell_type": "code",
   "execution_count": 22,
   "metadata": {
    "collapsed": false
   },
   "outputs": [],
   "source": [
    "def plot_loss_vs_epochs(training_loss, validation_loss):\n",
    "    plt.plot(range(1,len(training_loss)+1), training_loss, 'b')\n",
    "    plt.xticks(range(1,len(training_loss)+1))\n",
    "    plt.hold(True)\n",
    "    plt.plot(range(1,len(training_loss)+1), validation_loss, 'g')\n",
    "    plt.hold(False)\n",
    "    _ = plt.legend((\"Training\", \"Validation\"), loc='upper right')\n",
    "    _ = plt.ylabel(\"Loss\")\n",
    "    _ = plt.xlabel(\"Epochs\")"
   ]
  },
  {
   "cell_type": "code",
   "execution_count": 23,
   "metadata": {
    "collapsed": false
   },
   "outputs": [
    {
     "data": {
      "image/png": "[encoded data removed]",
      "text/plain": [
       "<matplotlib.figure.Figure at 0x7f5856305cf8>"
      ]
     },
     "metadata": {},
     "output_type": "display_data"
    }
   ],
   "source": [
    "plot_loss_vs_epochs(history.history['loss'], history.history['val_loss'])"
   ]
  },
  {
   "cell_type": "markdown",
   "metadata": {},
   "source": [
    "# Let's do the real training"
   ]
  },
  {
   "cell_type": "code",
   "execution_count": 14,
   "metadata": {
    "collapsed": true
   },
   "outputs": [],
   "source": [
    "batch_size = 64\n",
    "epochs = 10"
   ]
  },
  {
   "cell_type": "code",
   "execution_count": 15,
   "metadata": {
    "collapsed": true
   },
   "outputs": [],
   "source": [
    "train_gen = My_dataset_gen(path2csv_training, batch_size)\n",
    "val_gen = My_dataset_gen(path2csv_validation, batch_size, training=False)\n",
    "\n",
    "model = get_model_nvidia(train_gen.get_input_image_shape())\n",
    "optimizer = get_optimizer()"
   ]
  },
  {
   "cell_type": "code",
   "execution_count": 16,
   "metadata": {
    "collapsed": false
   },
   "outputs": [
    {
     "name": "stdout",
     "output_type": "stream",
     "text": [
      "Epoch 1/10\n",
      "40832/40892 [============================>.] - ETA: 0s - loss: 0.0149"
     ]
    },
    {
     "name": "stderr",
     "output_type": "stream",
     "text": [
      "/home/ubuntu/anaconda3/envs/carnd-term1/lib/python3.5/site-packages/keras/engine/training.py:1569: UserWarning: Epoch comprised more than `samples_per_epoch` samples, which might affect learning results. Set `samples_per_epoch` correctly to avoid this warning.\n",
      "  warnings.warn('Epoch comprised more than '\n"
     ]
    },
    {
     "name": "stdout",
     "output_type": "stream",
     "text": [
      "40896/40892 [==============================] - 202s - loss: 0.0149 - val_loss: 0.0092\n",
      "Epoch 2/10\n",
      "40896/40892 [==============================] - 195s - loss: 0.0122 - val_loss: 0.0088\n",
      "Epoch 3/10\n",
      "40896/40892 [==============================] - 194s - loss: 0.0121 - val_loss: 0.0089\n",
      "Epoch 4/10\n",
      "40896/40892 [==============================] - 195s - loss: 0.0117 - val_loss: 0.0093\n",
      "Epoch 5/10\n",
      "40896/40892 [==============================] - 195s - loss: 0.0112 - val_loss: 0.0088\n",
      "Epoch 6/10\n",
      "40896/40892 [==============================] - 194s - loss: 0.0108 - val_loss: 0.0085\n",
      "Epoch 7/10\n",
      "40896/40892 [==============================] - 195s - loss: 0.0102 - val_loss: 0.0090\n",
      "Epoch 8/10\n",
      "40896/40892 [==============================] - 195s - loss: 0.0100 - val_loss: 0.0086\n",
      "Epoch 9/10\n",
      "40896/40892 [==============================] - 195s - loss: 0.0096 - val_loss: 0.0078\n"
     ]
    }
   ],
   "source": [
    "history, model = train_model(train_gen, val_gen, batch_size, epochs, model, optimizer)\n",
    "# There is no need to save the model. It's already saved by the callbacks provided in fit_generator"
   ]
  },
  {
   "cell_type": "code",
   "execution_count": 21,
   "metadata": {
    "collapsed": false
   },
   "outputs": [
    {
     "name": "stderr",
     "output_type": "stream",
     "text": [
      "/home/ubuntu/anaconda3/envs/carnd-term1/lib/python3.5/site-packages/ipykernel/__main__.py:4: MatplotlibDeprecationWarning: pyplot.hold is deprecated.\n",
      "    Future behavior will be consistent with the long-time default:\n",
      "    plot commands add elements without first clearing the\n",
      "    Axes and/or Figure.\n",
      "/home/ubuntu/anaconda3/envs/carnd-term1/lib/python3.5/site-packages/matplotlib/__init__.py:917: UserWarning: axes.hold is deprecated. Please remove it from your matplotlibrc and/or style files.\n",
      "  warnings.warn(self.msg_depr_set % key)\n",
      "/home/ubuntu/anaconda3/envs/carnd-term1/lib/python3.5/site-packages/matplotlib/rcsetup.py:152: UserWarning: axes.hold is deprecated, will be removed in 3.0\n",
      "  warnings.warn(\"axes.hold is deprecated, will be removed in 3.0\")\n",
      "/home/ubuntu/anaconda3/envs/carnd-term1/lib/python3.5/site-packages/ipykernel/__main__.py:6: MatplotlibDeprecationWarning: pyplot.hold is deprecated.\n",
      "    Future behavior will be consistent with the long-time default:\n",
      "    plot commands add elements without first clearing the\n",
      "    Axes and/or Figure.\n"
     ]
    },
    {
     "data": {
      "image/png": "[encoded data removed]",
      "text/plain": [
       "<matplotlib.figure.Figure at 0x7f33872dafd0>"
      ]
     },
     "metadata": {},
     "output_type": "display_data"
    }
   ],
   "source": [
    "plot_loss_vs_epochs(history.history['loss'], history.history['val_loss'])"
   ]
  },
  {
   "cell_type": "code",
   "execution_count": 19,
   "metadata": {
    "collapsed": false
   },
   "outputs": [
    {
     "data": {
      "text/plain": [
       "{'loss': [0.01488223909917805,\n",
       "  0.012227217913845755,\n",
       "  0.01207989836709227,\n",
       "  0.011702754489235079,\n",
       "  0.011212903530379183,\n",
       "  0.01076126409438038,\n",
       "  0.010172263350401872,\n",
       "  0.0099932869465610644,\n",
       "  0.0096075063604491306],\n",
       " 'lr': [0.001, 0.001, 0.001, 0.001, 0.001, 0.001, 0.001, 0.001, 0.001],\n",
       " 'val_loss': [0.0092339491078746502,\n",
       "  0.00880700886627892,\n",
       "  0.0088889485981781032,\n",
       "  0.0093484643773990676,\n",
       "  0.0088150373907410536,\n",
       "  0.0085487313597695895,\n",
       "  0.0089806311327265582,\n",
       "  0.0085525253904052082,\n",
       "  0.0077580839009897314]}"
      ]
     },
     "execution_count": 19,
     "metadata": {},
     "output_type": "execute_result"
    }
   ],
   "source": [
    "history.history"
   ]
  }
 ],
 "metadata": {
  "anaconda-cloud": {},
  "kernelspec": {
   "display_name": "Python [conda env:carnd-term1]",
   "language": "python",
   "name": "conda-env-carnd-term1-py"
  },
  "language_info": {
   "codemirror_mode": {
    "name": "ipython",
    "version": 3
   },
   "file_extension": ".py",
   "mimetype": "text/x-python",
   "name": "python",
   "nbconvert_exporter": "python",
   "pygments_lexer": "ipython3",
   "version": "3.5.2"
  }
 },
 "nbformat": 4,
 "nbformat_minor": 1
}
