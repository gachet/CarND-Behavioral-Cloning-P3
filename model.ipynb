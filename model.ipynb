{
 "cells": [
  {
   "cell_type": "markdown",
   "metadata": {},
   "source": [
    "Let's import everything at the begining (My past as a C/C++ programmer betrays me)"
   ]
  },
  {
   "cell_type": "code",
   "execution_count": 1,
   "metadata": {
    "collapsed": true
   },
   "outputs": [],
   "source": [
    "import data_augmentation_toolkit as data_aug\n",
    "import numpy as np\n",
    "import pylab as plt\n",
    "import pandas as pd\n",
    "import pickle\n",
    "import random\n",
    "import math\n",
    "import os\n",
    "\n",
    "from scipy.misc import imread\n",
    "from random import shuffle\n",
    "\n",
    "%matplotlib inline"
   ]
  },
  {
   "cell_type": "code",
   "execution_count": 2,
   "metadata": {
    "collapsed": false
   },
   "outputs": [
    {
     "name": "stderr",
     "output_type": "stream",
     "text": [
      "Using TensorFlow backend.\n"
     ]
    }
   ],
   "source": [
    "from keras.models import Sequential\n",
    "from keras.layers.core import Dense, Activation, Flatten, Dropout, Lambda\n",
    "from keras.layers.convolutional import Convolution2D\n",
    "from keras.layers.pooling import MaxPooling2D\n",
    "\n",
    "from keras.callbacks import ModelCheckpoint, LearningRateScheduler, EarlyStopping, ReduceLROnPlateau\n",
    "from keras.preprocessing.image import ImageDataGenerator\n",
    "from keras.optimizers import Adam"
   ]
  },
  {
   "cell_type": "markdown",
   "metadata": {},
   "source": [
    "Create an initial model. I don't agree to much with the idea of doing subsampling (stride>1) in the convolutional layers, as I read in multiple places that is more destructive than using a pooling layer after the convolutional one without subsampling, but let's give it an oportunity."
   ]
  },
  {
   "cell_type": "markdown",
   "metadata": {},
   "source": [
    "### Model definition"
   ]
  },
  {
   "cell_type": "code",
   "execution_count": 3,
   "metadata": {
    "collapsed": false
   },
   "outputs": [],
   "source": [
    "def get_model_nvidia(image_shape):\n",
    "    \"\"\"\n",
    "    End to End Learning for Self-Driving Cars\n",
    "    http://images.nvidia.com/content/tegra/automotive/images/2016/solutions/pdf/end-to-end-dl-using-px.pdf\n",
    "    \n",
    "    No info is provided for activations, hence I choose RELU\n",
    "    \"\"\"\n",
    "    \n",
    "\n",
    "    '''\n",
    "    def normalize(x, a, b):\n",
    "        x = x.astype(np.float32)\n",
    "        return a + (x-x.min())*(b-a)/(x.max() - x.min())\n",
    "    '''\n",
    "    \n",
    "    model = Sequential()\n",
    "    \n",
    "    # Use a lambda layer to normalize the input data\n",
    "    #model.add(Lambda(lambda x: normalize(x, 0, 1), input_shape=image_shape, output_shape=image_shape))\n",
    "    # Removed Lambda layer. Seems to add more troubles than it helps.\n",
    "    model.add(Convolution2D(nb_filter=24, nb_row=5, nb_col=5, border_mode='valid', subsample=(2,2), input_shape=image_shape))\n",
    "    model.add(Activation('relu'))\n",
    "    model.add(Convolution2D(nb_filter=36, nb_row=5, nb_col=5, border_mode='valid', subsample=(2,2)))\n",
    "    model.add(Activation('relu'))\n",
    "    model.add(Convolution2D(nb_filter=48, nb_row=5, nb_col=5, border_mode='valid', subsample=(2,2)))\n",
    "    model.add(Activation('relu'))\n",
    "    model.add(Convolution2D(nb_filter=64, nb_row=3, nb_col=3, border_mode='valid'))\n",
    "    model.add(Activation('relu'))\n",
    "    model.add(Convolution2D(nb_filter=64, nb_row=3, nb_col=3, border_mode='valid'))\n",
    "    model.add(Activation('relu'))\n",
    "    model.add(Flatten())\n",
    "    model.add(Dense(1164))\n",
    "    model.add(Activation('relu'))     \n",
    "    model.add(Dense(100))\n",
    "    model.add(Activation('relu'))\n",
    "    model.add(Dense(50))\n",
    "    model.add(Activation('relu'))\n",
    "    model.add(Dense(10))\n",
    "    model.add(Activation('relu'))\n",
    "    model.add(Dense(1))\n",
    "    \n",
    "    return model"
   ]
  },
  {
   "cell_type": "markdown",
   "metadata": {},
   "source": [
    "Maybe I want to play with optimizers later, but for the moment, a standard adam should be more than fine"
   ]
  },
  {
   "cell_type": "code",
   "execution_count": 4,
   "metadata": {
    "collapsed": false
   },
   "outputs": [],
   "source": [
    "def get_optimizer():\n",
    "    return Adam()"
   ]
  },
  {
   "cell_type": "markdown",
   "metadata": {},
   "source": [
    "### Training options"
   ]
  },
  {
   "cell_type": "code",
   "execution_count": 5,
   "metadata": {
    "collapsed": true
   },
   "outputs": [],
   "source": [
    "path2models = \"./models/model.{epoch:02d}-{val_loss:.3f}.h5\"\n",
    "\n",
    "os.makedirs('./models', exist_ok=True)\n",
    "\n",
    "\n",
    "def train_model(train_gen, val_gen, batch_size, epochs, model, \\\n",
    "                optimizer=None, limit_train=None, limit_val=None):\n",
    "    \n",
    "    if optimizer:\n",
    "        model.compile(optimizer=optimizer, loss=\"mse\")\n",
    "    else:\n",
    "        model.compile(optimizer=\"adam\", loss=\"mse\") # This is a nice optimizer to be left as default\n",
    "        \n",
    "    # Callbacks\n",
    "    reduce_lr_on_plateau = ReduceLROnPlateau(factor=0.5, patience=3, cooldown=3, min_lr=1e-5)\n",
    "    checkpoint = ModelCheckpoint(filepath=path2models)\n",
    "    early_stopping = EarlyStopping(min_delta=1e-3, patience=7)\n",
    "    \n",
    "    ls_callbacks = [checkpoint, reduce_lr_on_plateau, early_stopping]\n",
    "    \n",
    "        \n",
    "    samples_per_epoch = limit_train if limit_train else batch_size*math.ceil(train_gen.get_epoch_size()/batch_size)\n",
    "    nb_epoch = epochs\n",
    "    nb_val_samples = limit_val if limit_val else val_gen.get_epoch_size()\n",
    "    history = model.fit_generator(train_gen, samples_per_epoch, nb_epoch, \\\n",
    "                                  nb_val_samples=nb_val_samples, validation_data=val_gen, callbacks=ls_callbacks)\n",
    "    \n",
    "    return history, model"
   ]
  },
  {
   "cell_type": "markdown",
   "metadata": {},
   "source": [
    "### Generator definition"
   ]
  },
  {
   "cell_type": "code",
   "execution_count": 19,
   "metadata": {
    "collapsed": false
   },
   "outputs": [],
   "source": [
    "# Prepare the data with a python generator so we can do data augmentation on the fly\n",
    "\n",
    "class My_dataset_gen():\n",
    "    \"\"\"\n",
    "    To be strict, My_dataset_gen is not a real generator (does not call yield) but an iterator\n",
    "    \"\"\"\n",
    "    def __init__(self, \n",
    "                 path2csv,\n",
    "                 path2prob_tools,\n",
    "                 batch_size,\n",
    "                 camera_effect=False,\n",
    "                 training=True):\n",
    "        \n",
    "        self.batch_size = batch_size\n",
    "        \n",
    "        # Load the CSV\n",
    "        df = pd.read_csv(path2csv)\n",
    "        self.dataset = df.to_dict(orient='records') # This is a list of dict\n",
    "        \n",
    "        self.position = 0\n",
    "        self.size_epoch = len(self.dataset)\n",
    "        self.training = training\n",
    "        \n",
    "        self.max_perturbation = 0.02 # This is a really small perturbation that will be added to the steering angle.\n",
    "        # Not enough to damage the behaviour of the model, but enough to add some variety.\n",
    "        \n",
    "        self.camera = {'left_camera': +0.2, 'right_camera': -0.2, 'center_camera': 0} # Pseudo camera position \n",
    "        # and corresponding steering angle's offsets\n",
    "        self.pseudo_shift_value = 50\n",
    "        self.camera_effect = camera_effect\n",
    "        \n",
    "        # Angle-preserving transformations\n",
    "        self.angle_preserving = [data_aug.salt_and_pepper, data_aug.bilateral_filter, data_aug.speckle_noise, \\\n",
    "                                 data_aug.random_light, data_aug.random_shadow, data_aug.histogram_equalization, \\\n",
    "                                 data_aug.identity]\n",
    "        # Load probability tools\n",
    "        prob_tools = pickle.load(open(path2prob_tools, 'rb'))\n",
    "        self.bins = prob_tools['bins']\n",
    "        self.converter = prob_tools['converter']\n",
    "        \n",
<<<<<<< HEAD
    "        self.angle_list = list() # For debug purposes\n",
=======
    "        self.bin_list = list()\n",
    "        self.angle_list = list()\n",
>>>>>>> 0e0c525... Done!!! My car is able to run on track 1 for hours without any problem. (The ipynb is a complete mess and it has to be cleaned, but these results need to be saved)
    "        \n",
    "    def __iter__(self):\n",
    "        return self\n",
    "    \n",
    "    def __next__(self):\n",
    "        \n",
    "        from IPython.core.debugger import Tracer;\n",
    "\n",
    "        number_of_samples = 0\n",
    "        X_l = list()\n",
    "        Y_l = list()\n",
    "        \n",
    "        while number_of_samples < self.batch_size:\n",
    "            if self.position == self.size_epoch:\n",
    "                shuffle(self.dataset)\n",
    "                self.position = 0\n",
    "                \n",
    "            sample = self.dataset[self.position]\n",
    "            \n",
    "            image = imread(sample['Updated image path'])\n",
    "            image = self._vertical_crop(image)\n",
    "            angle = sample['Steering angle'] + random.uniform(-1, 1)*self.max_perturbation\n",
    "            \n",
    "            if self.training:\n",
    "                image, angle = self._random_transform(image, angle)\n",
    "                prob_appearance = self._angle2probability(angle) # The random transformation can change angle's bin\n",
    "                rand_val = random.random()\n",
<<<<<<< HEAD
    "\n",
=======
    "                # TODO DEBUG\n",
    "                #Tracer()()\n",
>>>>>>> 0e0c525... Done!!! My car is able to run on track 1 for hours without any problem. (The ipynb is a complete mess and it has to be cleaned, but these results need to be saved)
    "                if rand_val <= 1-prob_appearance: # This way we eliminate biases toward more frequent values\n",
    "                # E.g. prob_appearance = 0.25. This means it appears  only 25% of the times in the dataset\n",
    "                # but I want to balance it, so I do 1-0.25= 0.75. Comparing with a random value between 0 and 1, this sample \n",
    "                # will be used (with data augmentation techniques) the 75% of the times. Category samples with a high \n",
    "                # prob_appearance will be more likely rejected, but because of there are more samples of that \n",
    "                # category doesn't matter. On average all categories should be balanced.\n",
    "                    \n",
<<<<<<< HEAD
    "                    self.angle_list.append(angle) # For debug purposes\n",
=======
    "                                \n",
    "                    # TODO DEBUG\n",
    "                    self.bin_list.append(int(np.digitize(angle, self.bins)))\n",
    "                    self.angle_list.append(angle)\n",
    "                    # TODO DEBUG\n",
>>>>>>> 0e0c525... Done!!! My car is able to run on track 1 for hours without any problem. (The ipynb is a complete mess and it has to be cleaned, but these results need to be saved)
    "        \n",
    "                    image = self._normalize(image)\n",
    "                    \n",
    "                    X_l.append(image)\n",
    "                    Y_l.append(angle)\n",
    "                    number_of_samples += 1\n",
    "                    \n",
    "            else:                    \n",
    "                image = self._normalize(image)\n",
    "                \n",
    "                if self.camera_effect:\n",
    "                    image = data_aug.pseudo_shift(image, 'center_camera', self.pseudo_shift_value)\n",
    "                \n",
    "                X_l.append(image)\n",
    "                Y_l.append(angle)\n",
    "                number_of_samples += 1\n",
    "                \n",
    "                \n",
    "            self.position += 1\n",
    "            \n",
    "            \n",
    "        X = np.array(X_l) # Current shape follows tf dim_ordering: (samples, height, width, channels)\n",
    "        Y = np.array(Y_l)\n",
    "        \n",
    "        return (X,Y)\n",
    "            \n",
    "    \n",
    "    def _normalize(self, x, a=0, b=1):\n",
    "        x = x.astype(np.float32)\n",
    "        return a + (x-x.min())*(b-a)/(x.max() - x.min())\n",
    "    \n",
    "    def _vertical_crop(self, x):\n",
    "        \"\"\"\n",
    "        Input shape (160, 320, 3)\n",
    "        Ouput shape (90, 320, 3)\n",
    "        \"\"\"\n",
    "        return x[60:150, :] # See Explore dataset + Experimental setup.ipynb \n",
    "        # Original x[60:150, :], updated to x[60:150, :] seems to be a better option in order to remove remaining clutter.\n",
    "\n",
    "    def _random_transform(self, image, angle):\n",
    "        # We are always going to choose a random angle-preserving transformation (the identity is included) and\n",
    "        # after that a non-angle-preserving transformation the half of the time.\n",
    "        \n",
    "        # Angle-preserving transformation\n",
    "        image = random.choice(self.angle_preserving)(image)\n",
    "        \n",
    "        # Non-angle-preserving transformation\n",
    "        \n",
    "        if random.random() >= 0.5:\n",
    "            image = data_aug.horizontal_flipping(image)\n",
    "            angle = -angle\n",
    "        \n",
    "        if self.camera_effect:\n",
    "            # With the next 3 lines we can add more recovery data simulating different camera positions\n",
    "            camera_position = random.choice(list(self.camera.keys()))\n",
    "            image = data_aug.pseudo_shift(image, camera_position, self.pseudo_shift_value)\n",
    "            angle += self.camera[camera_position]\n",
    "            \n",
    "        return image, angle\n",
    "    \n",
    "    def _angle2probability(self, angle):\n",
    "        bi = int(np.digitize(angle, self.bins))\n",
    "        bi = np.clip(bi, 1, 20) # to avoid edges issues\n",
    "\n",
    "        prob = self.converter[bi]\n",
    "            \n",
    "        return  prob + 0.8*prob # Let's penalize even more those angles with lot of examples\n",
    "    \n",
    "    def get_original_image_shape(self):\n",
    "        temp = imread(self.dataset[0]['Updated image path'])\n",
    "        return temp.shape\n",
    "\n",
    "    def get_input_image_shape(self):\n",
    "        \"\"\"\n",
    "        This function returns the shape of the transformed image, i.e. the one that will be the input to the net.\n",
    "        \"\"\"\n",
    "        temp = imread(self.dataset[0]['Updated image path'])\n",
    "        \n",
    "        shape = list(self._vertical_crop(temp).shape)\n",
    "        \n",
    "        if self.camera_effect:\n",
    "            shape[1] -= self.pseudo_shift_value # Because of data_aug.pseudo_shift\n",
    "        \n",
    "        return tuple(shape)\n",
    "    \n",
    "        \n",
    "    def get_epoch_size(self):\n",
    "        return self.size_epoch"
   ]
  },
  {
   "cell_type": "markdown",
   "metadata": {},
   "source": [
    "# Let's perform a quick test to see if all the pieces work"
   ]
  },
  {
   "cell_type": "code",
   "execution_count": 7,
   "metadata": {
    "collapsed": false
   },
   "outputs": [],
   "source": [
    "path2dataset = \"/mnt/Behavioral-Cloning-Dataset/\"\n",
    "path2csv_training = path2dataset + \"driving_log_training.csv\"\n",
    "path2csv_validation = path2dataset + \"driving_log_validation.csv\"\n",
    "path2prob_tools = path2dataset + \"prob_tools.pkl\"\n",
    "\n",
    "batch_size = 2\n",
    "epochs = 2\n",
    "limit_train = 10\n",
    "limit_val = 10\n",
    "\n",
    "train_gen = My_dataset_gen(path2csv_training, path2prob_tools, batch_size, camera_effect=True)\n",
    "val_gen = My_dataset_gen(path2csv_validation, path2prob_tools, batch_size, camera_effect=True, training=True)"
   ]
  },
  {
   "cell_type": "code",
   "execution_count": 60,
   "metadata": {
    "collapsed": false
   },
   "outputs": [
    {
     "name": "stdout",
     "output_type": "stream",
     "text": [
      "Number of training samples: 39746\n",
      "Number of validation samples: 9937\n",
      "Shape of the original images:  (160, 320, 3)\n",
      "Shape of the processed images:  (90, 270, 3)\n"
     ]
    }
   ],
   "source": [
    "# Let's visualize some statistics about the dataset\n",
    "\n",
    "print(\"Number of training samples: %d\" % (train_gen.get_epoch_size()))\n",
    "print(\"Number of validation samples: %d\" % (val_gen.get_epoch_size()))\n",
    "print(\"Shape of the original images: \", train_gen.get_original_image_shape())\n",
    "print(\"Shape of the processed images: \", train_gen.get_input_image_shape())"
   ]
  },
  {
   "cell_type": "code",
   "execution_count": 92,
   "metadata": {
    "collapsed": false
   },
   "outputs": [
    {
     "name": "stdout",
     "output_type": "stream",
     "text": [
      "____________________________________________________________________________________________________\n",
      "Layer (type)                     Output Shape          Param #     Connected to                     \n",
      "====================================================================================================\n",
      "convolution2d_61 (Convolution2D) (None, 43, 133, 24)   1824        convolution2d_input_13[0][0]     \n",
      "____________________________________________________________________________________________________\n",
      "activation_109 (Activation)      (None, 43, 133, 24)   0           convolution2d_61[0][0]           \n",
      "____________________________________________________________________________________________________\n",
      "convolution2d_62 (Convolution2D) (None, 20, 65, 36)    21636       activation_109[0][0]             \n",
      "____________________________________________________________________________________________________\n",
      "activation_110 (Activation)      (None, 20, 65, 36)    0           convolution2d_62[0][0]           \n",
      "____________________________________________________________________________________________________\n",
      "convolution2d_63 (Convolution2D) (None, 8, 31, 48)     43248       activation_110[0][0]             \n",
      "____________________________________________________________________________________________________\n",
      "activation_111 (Activation)      (None, 8, 31, 48)     0           convolution2d_63[0][0]           \n",
      "____________________________________________________________________________________________________\n",
      "convolution2d_64 (Convolution2D) (None, 6, 29, 64)     27712       activation_111[0][0]             \n",
      "____________________________________________________________________________________________________\n",
      "activation_112 (Activation)      (None, 6, 29, 64)     0           convolution2d_64[0][0]           \n",
      "____________________________________________________________________________________________________\n",
      "convolution2d_65 (Convolution2D) (None, 4, 27, 64)     36928       activation_112[0][0]             \n",
      "____________________________________________________________________________________________________\n",
      "activation_113 (Activation)      (None, 4, 27, 64)     0           convolution2d_65[0][0]           \n",
      "____________________________________________________________________________________________________\n",
      "flatten_13 (Flatten)             (None, 6912)          0           activation_113[0][0]             \n",
      "____________________________________________________________________________________________________\n",
      "dense_61 (Dense)                 (None, 1164)          8046732     flatten_13[0][0]                 \n",
      "____________________________________________________________________________________________________\n",
      "activation_114 (Activation)      (None, 1164)          0           dense_61[0][0]                   \n",
      "____________________________________________________________________________________________________\n",
      "dense_62 (Dense)                 (None, 100)           116500      activation_114[0][0]             \n",
      "____________________________________________________________________________________________________\n",
      "activation_115 (Activation)      (None, 100)           0           dense_62[0][0]                   \n",
      "____________________________________________________________________________________________________\n",
      "dense_63 (Dense)                 (None, 50)            5050        activation_115[0][0]             \n",
      "____________________________________________________________________________________________________\n",
      "activation_116 (Activation)      (None, 50)            0           dense_63[0][0]                   \n",
      "____________________________________________________________________________________________________\n",
      "dense_64 (Dense)                 (None, 10)            510         activation_116[0][0]             \n",
      "____________________________________________________________________________________________________\n",
      "activation_117 (Activation)      (None, 10)            0           dense_64[0][0]                   \n",
      "____________________________________________________________________________________________________\n",
      "dense_65 (Dense)                 (None, 1)             11          activation_117[0][0]             \n",
      "====================================================================================================\n",
      "Total params: 8,300,151\n",
      "Trainable params: 8,300,151\n",
      "Non-trainable params: 0\n",
      "____________________________________________________________________________________________________\n"
     ]
    }
   ],
   "source": [
    "model = get_model_nvidia(train_gen.get_input_image_shape())\n",
    "optimizer = get_optimizer()\n",
    "\n",
    "# Just have a look at our model before training:\n",
    "model.summary()"
   ]
  },
  {
   "cell_type": "code",
   "execution_count": 37,
   "metadata": {
    "collapsed": false
   },
   "outputs": [
    {
     "name": "stdout",
     "output_type": "stream",
     "text": [
      "Epoch 1/2\n",
      "10/10 [==============================] - 1s - loss: 0.0461 - val_loss: 0.0393\n",
      "Epoch 2/2\n",
      "10/10 [==============================] - 0s - loss: 0.0305 - val_loss: 0.0299\n"
     ]
    }
   ],
   "source": [
    "history, model = train_model(train_gen, val_gen, batch_size, epochs, model, optimizer, limit_train, limit_val)\n",
    "# There is no need to save the model. It's already saved by the callbacks provided in fit_generator"
   ]
  },
  {
   "cell_type": "code",
   "execution_count": 39,
   "metadata": {
    "collapsed": false
   },
   "outputs": [],
   "source": [
    "def plot_loss_vs_epochs(training_loss, validation_loss):\n",
    "    plt.plot(range(1,len(training_loss)+1), training_loss, 'b')\n",
    "    plt.xticks(range(1,len(training_loss)+1))\n",
    "    plt.hold(True)\n",
    "    plt.plot(range(1,len(training_loss)+1), validation_loss, 'g')\n",
    "    plt.hold(False)\n",
    "    _ = plt.legend((\"Training\", \"Validation\"), loc='upper right')\n",
    "    _ = plt.ylabel(\"Loss\")\n",
    "    _ = plt.xlabel(\"Epochs\")"
   ]
  },
  {
   "cell_type": "code",
   "execution_count": 39,
   "metadata": {
    "collapsed": false
   },
   "outputs": [
    {
     "name": "stderr",
     "output_type": "stream",
     "text": [
      "/home/ubuntu/anaconda3/envs/carnd-term1/lib/python3.5/site-packages/ipykernel/__main__.py:4: MatplotlibDeprecationWarning: pyplot.hold is deprecated.\n",
      "    Future behavior will be consistent with the long-time default:\n",
      "    plot commands add elements without first clearing the\n",
      "    Axes and/or Figure.\n",
      "/home/ubuntu/anaconda3/envs/carnd-term1/lib/python3.5/site-packages/matplotlib/__init__.py:917: UserWarning: axes.hold is deprecated. Please remove it from your matplotlibrc and/or style files.\n",
      "  warnings.warn(self.msg_depr_set % key)\n",
      "/home/ubuntu/anaconda3/envs/carnd-term1/lib/python3.5/site-packages/matplotlib/rcsetup.py:152: UserWarning: axes.hold is deprecated, will be removed in 3.0\n",
      "  warnings.warn(\"axes.hold is deprecated, will be removed in 3.0\")\n",
      "/home/ubuntu/anaconda3/envs/carnd-term1/lib/python3.5/site-packages/ipykernel/__main__.py:6: MatplotlibDeprecationWarning: pyplot.hold is deprecated.\n",
      "    Future behavior will be consistent with the long-time default:\n",
      "    plot commands add elements without first clearing the\n",
      "    Axes and/or Figure.\n"
     ]
    },
    {
     "data": {
      "image/png": "iVBORw0KGgoAAAANSUhEUgAAAZIAAAEKCAYAAAA4t9PUAAAABHNCSVQICAgIfAhkiAAAAAlwSFlz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\n",
      "text/plain": [
       "<matplotlib.figure.Figure at 0x7fccedd2dcf8>"
      ]
     },
     "metadata": {},
     "output_type": "display_data"
    }
   ],
   "source": [
    "plot_loss_vs_epochs(history.history['loss'], history.history['val_loss'])"
   ]
  },
  {
   "cell_type": "markdown",
   "metadata": {},
   "source": [
    "# Let's do the real training"
   ]
  },
  {
   "cell_type": "code",
   "execution_count": 34,
   "metadata": {
    "collapsed": true
   },
   "outputs": [],
   "source": [
    "batch_size = 64\n",
    "epochs = 10"
   ]
  },
  {
   "cell_type": "code",
   "execution_count": 49,
   "metadata": {
    "collapsed": false
   },
   "outputs": [],
   "source": [
    "train_gen = My_dataset_gen(path2csv_training, path2prob_tools, batch_size, camera_effect=True)\n",
    "val_gen = My_dataset_gen(path2csv_validation, path2prob_tools, batch_size, camera_effect=True, training=True) \n",
    "# the parameter training=True in val_gen is not an error, I want to apply the same random transformations \n",
    "# and angles' balance so validation set has the same data distribution as training set\n",
    "\n",
    "model = get_model_nvidia(train_gen.get_input_image_shape())\n",
    "optimizer = get_optimizer()"
   ]
  },
  {
   "cell_type": "code",
<<<<<<< HEAD
   "execution_count": 36,
=======
   "execution_count": 50,
   "metadata": {
    "collapsed": false
   },
   "outputs": [],
   "source": [
    "for a in range(100):\n",
    "    _, _ = next(train_gen)"
   ]
  },
  {
   "cell_type": "code",
   "execution_count": 51,
   "metadata": {
    "collapsed": false
   },
   "outputs": [
    {
     "data": {
      "text/plain": [
       "6400"
      ]
     },
     "execution_count": 51,
     "metadata": {},
     "output_type": "execute_result"
    }
   ],
   "source": [
    "len(train_gen.bin_list)"
   ]
  },
  {
   "cell_type": "code",
   "execution_count": 52,
   "metadata": {
    "collapsed": false
   },
   "outputs": [
    {
     "data": {
      "text/plain": [
       "6400"
      ]
     },
     "execution_count": 52,
     "metadata": {},
     "output_type": "execute_result"
    }
   ],
   "source": [
    "len(train_gen.angle_list)"
   ]
  },
  {
   "cell_type": "code",
   "execution_count": 53,
   "metadata": {
    "collapsed": false
   },
   "outputs": [
    {
     "data": {
      "text/plain": [
       "array([ 0,  1,  2,  3,  4,  5,  6,  7,  8,  9, 10, 11, 12, 13, 14, 15, 16,\n",
       "       17, 18, 19, 20, 21])"
      ]
     },
     "execution_count": 53,
     "metadata": {},
     "output_type": "execute_result"
    }
   ],
   "source": [
    "np.unique(train_gen.bin_list)"
   ]
  },
  {
   "cell_type": "code",
   "execution_count": 54,
   "metadata": {
    "collapsed": false
   },
   "outputs": [
    {
     "data": {
      "text/plain": [
       "(array([  3.00000000e+00,   1.00000000e+00,   5.00000000e+00,\n",
       "          1.00000000e+01,   3.10000000e+01,   7.80000000e+01,\n",
       "          2.09000000e+02,   6.55000000e+02,   1.48100000e+03,\n",
       "          5.94000000e+02,   4.27000000e+02,   7.15000000e+02,\n",
       "          1.75100000e+03,   2.93000000e+02,   8.80000000e+01,\n",
       "          3.00000000e+01,   1.30000000e+01,   5.00000000e+00,\n",
       "          6.00000000e+00,   0.00000000e+00,   5.00000000e+00]),\n",
       " array([-1.01267263, -0.91293036, -0.81318808, -0.71344581, -0.61370353,\n",
       "        -0.51396126, -0.41421899, -0.31447671, -0.21473444, -0.11499216,\n",
       "        -0.01524989,  0.08449238,  0.18423466,  0.28397693,  0.38371921,\n",
       "         0.48346148,  0.58320375,  0.68294603,  0.7826883 ,  0.88243057,\n",
       "         0.98217285,  1.08191512]),\n",
       " <a list of 21 Patch objects>)"
      ]
     },
     "execution_count": 54,
     "metadata": {},
     "output_type": "execute_result"
    },
    {
     "data": {
      "image/png": "iVBORw0KGgoAAAANSUhEUgAAAYEAAAD8CAYAAACRkhiPAAAABHNCSVQICAgIfAhkiAAAAAlwSFlz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\npIb9H1uTxJfvkY+RAAAAAElFTkSuQmCC\n",
      "text/plain": [
       "<matplotlib.figure.Figure at 0x7f0064cbf080>"
      ]
     },
     "metadata": {},
     "output_type": "display_data"
    }
   ],
   "source": [
    "plt.hist(train_gen.angle_list, 21)"
   ]
  },
  {
   "cell_type": "code",
   "execution_count": 28,
>>>>>>> 0e0c525... Done!!! My car is able to run on track 1 for hours without any problem. (The ipynb is a complete mess and it has to be cleaned, but these results need to be saved)
   "metadata": {
    "collapsed": false
   },
   "outputs": [
    {
     "name": "stdout",
     "output_type": "stream",
     "text": [
<<<<<<< HEAD
=======
      "[-1.  -0.9 -0.8 -0.7 -0.6 -0.5 -0.4 -0.3 -0.2 -0.1  0.   0.1  0.2  0.3  0.4\n",
      "  0.5  0.6  0.7  0.8  0.9  1. ]\n"
     ]
    }
   ],
   "source": [
    "print(train_gen.bins)"
   ]
  },
  {
   "cell_type": "code",
   "execution_count": 16,
   "metadata": {
    "collapsed": false
   },
   "outputs": [
    {
     "data": {
      "text/plain": [
       "array(0)"
      ]
     },
     "execution_count": 16,
     "metadata": {},
     "output_type": "execute_result"
    }
   ],
   "source": [
    "np.digitize(-1.2, train_gen.bins)"
   ]
  },
  {
   "cell_type": "code",
   "execution_count": 74,
   "metadata": {
    "collapsed": false
   },
   "outputs": [
    {
     "data": {
      "text/plain": [
       "39746"
      ]
     },
     "execution_count": 74,
     "metadata": {},
     "output_type": "execute_result"
    }
   ],
   "source": [
    "train_gen.get_epoch_size()"
   ]
  },
  {
   "cell_type": "code",
   "execution_count": 32,
   "metadata": {
    "collapsed": false
   },
   "outputs": [
    {
     "data": {
      "text/plain": [
       "{1: 0.00056357305315701551,\n",
       " 2: 0.00034216935370247369,\n",
       " 3: 0.00056357305315701551,\n",
       " 4: 0.00066421109836362535,\n",
       " 5: 0.0013284221967272507,\n",
       " 6: 0.0051526679145784274,\n",
       " 7: 0.013727029366181592,\n",
       " 8: 0.036914034981784513,\n",
       " 9: 0.14336895920133647,\n",
       " 10: 0.23154801441136807,\n",
       " 11: 0.52474689531630536,\n",
       " 12: 0.020972968621057506,\n",
       " 13: 0.0091983173318841462,\n",
       " 14: 0.0061791759756858484,\n",
       " 15: 0.0011674013243966749,\n",
       " 16: 0.0018114848137189784,\n",
       " 17: 0.00046293500795040556,\n",
       " 18: 0.00016102087233057586,\n",
       " 19: 0.00052331783507437155,\n",
       " 20: 0.00060382827123965947}"
      ]
     },
     "execution_count": 32,
     "metadata": {},
     "output_type": "execute_result"
    }
   ],
   "source": [
    "train_gen.converter"
   ]
  },
  {
   "cell_type": "code",
   "execution_count": 18,
   "metadata": {
    "collapsed": false
   },
   "outputs": [
    {
     "data": {
      "text/plain": [
       "0.9445444115693497"
      ]
     },
     "execution_count": 18,
     "metadata": {},
     "output_type": "execute_result"
    }
   ],
   "source": [
    "a = 0.52474689531630536\n",
    "b = 1.8*a\n",
    "b"
   ]
  },
  {
   "cell_type": "code",
   "execution_count": 36,
   "metadata": {
    "collapsed": false
   },
   "outputs": [
    {
     "name": "stdout",
     "output_type": "stream",
     "text": [
>>>>>>> 0e0c525... Done!!! My car is able to run on track 1 for hours without any problem. (The ipynb is a complete mess and it has to be cleaned, but these results need to be saved)
      "Epoch 1/10\n",
      "39808/39808 [==============================] - 246s - loss: 0.0190 - val_loss: 0.0102\n",
      "Epoch 2/10\n",
      "39808/39808 [==============================] - 244s - loss: 0.0094 - val_loss: 0.0093\n",
      "Epoch 3/10\n",
      "39808/39808 [==============================] - 242s - loss: 0.0092 - val_loss: 0.0096\n",
      "Epoch 4/10\n",
      "39808/39808 [==============================] - 243s - loss: 0.0089 - val_loss: 0.0091\n",
      "Epoch 5/10\n",
      "39808/39808 [==============================] - 242s - loss: 0.0087 - val_loss: 0.0099\n",
      "Epoch 6/10\n",
      "39808/39808 [==============================] - 241s - loss: 0.0089 - val_loss: 0.0097\n",
      "Epoch 7/10\n",
      "39808/39808 [==============================] - 241s - loss: 0.0084 - val_loss: 0.0091\n",
      "Epoch 8/10\n",
      "39808/39808 [==============================] - 241s - loss: 0.0084 - val_loss: 0.0087\n",
      "Epoch 9/10\n",
      "39808/39808 [==============================] - 241s - loss: 0.0084 - val_loss: 0.0093\n",
      "Epoch 10/10\n",
      "39808/39808 [==============================] - 242s - loss: 0.0081 - val_loss: 0.0086\n"
     ]
    }
   ],
   "source": [
    "history, model = train_model(train_gen, val_gen, batch_size, epochs, model, optimizer)\n",
    "# There is no need to save the model. It's already saved by the callbacks provided in fit_generator"
   ]
  },
  {
   "cell_type": "code",
   "execution_count": 40,
   "metadata": {
    "collapsed": false
   },
   "outputs": [
    {
     "name": "stderr",
     "output_type": "stream",
     "text": [
      "/home/ubuntu/anaconda3/envs/carnd-term1/lib/python3.5/site-packages/ipykernel/__main__.py:4: MatplotlibDeprecationWarning: pyplot.hold is deprecated.\n",
      "    Future behavior will be consistent with the long-time default:\n",
      "    plot commands add elements without first clearing the\n",
      "    Axes and/or Figure.\n",
      "/home/ubuntu/anaconda3/envs/carnd-term1/lib/python3.5/site-packages/matplotlib/__init__.py:917: UserWarning: axes.hold is deprecated. Please remove it from your matplotlibrc and/or style files.\n",
      "  warnings.warn(self.msg_depr_set % key)\n",
      "/home/ubuntu/anaconda3/envs/carnd-term1/lib/python3.5/site-packages/matplotlib/rcsetup.py:152: UserWarning: axes.hold is deprecated, will be removed in 3.0\n",
      "  warnings.warn(\"axes.hold is deprecated, will be removed in 3.0\")\n",
      "/home/ubuntu/anaconda3/envs/carnd-term1/lib/python3.5/site-packages/ipykernel/__main__.py:6: MatplotlibDeprecationWarning: pyplot.hold is deprecated.\n",
      "    Future behavior will be consistent with the long-time default:\n",
      "    plot commands add elements without first clearing the\n",
      "    Axes and/or Figure.\n"
     ]
    },
    {
     "data": {
      "image/png": "iVBORw0KGgoAAAANSUhEUgAAAZIAAAEKCAYAAAA4t9PUAAAABHNCSVQICAgIfAhkiAAAAAlwSFlz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\nIlIv/x9tiNRe5w9r5gAAAABJRU5ErkJggg==\n",
      "text/plain": [
       "<matplotlib.figure.Figure at 0x7f003cc78668>"
      ]
     },
     "metadata": {},
     "output_type": "display_data"
    }
   ],
   "source": [
    "plot_loss_vs_epochs(history.history['loss'], history.history['val_loss'])"
   ]
  },
  {
   "cell_type": "code",
   "execution_count": 41,
   "metadata": {
    "collapsed": false
   },
   "outputs": [
    {
     "data": {
      "text/plain": [
       "{'loss': [0.018964059007431939,\n",
       "  0.0093518896050859019,\n",
       "  0.0092157058567901729,\n",
       "  0.0089366573067771269,\n",
       "  0.0086924715365891102,\n",
       "  0.0089338744321981762,\n",
       "  0.0083809937311147744,\n",
       "  0.008440280830640334,\n",
       "  0.0084258976768271047,\n",
       "  0.0081323057437806701],\n",
       " 'lr': [0.001, 0.001, 0.001, 0.001, 0.001, 0.001, 0.001, 0.001, 0.001, 0.001],\n",
       " 'val_loss': [0.010226405870455962,\n",
       "  0.0092674763343380522,\n",
       "  0.0096449593204455692,\n",
       "  0.0090693618209722136,\n",
       "  0.0099158089724369347,\n",
       "  0.0096997990696810373,\n",
       "  0.0090777441517461855,\n",
       "  0.0087232591273883973,\n",
       "  0.0093142358304108847,\n",
       "  0.0086174888793044743]}"
      ]
     },
     "execution_count": 41,
     "metadata": {},
     "output_type": "execute_result"
    }
   ],
   "source": [
    "history.history"
   ]
  },
  {
   "cell_type": "code",
   "execution_count": 42,
   "metadata": {
    "collapsed": false
   },
   "outputs": [
    {
     "name": "stderr",
     "output_type": "stream",
     "text": [
      "/home/ubuntu/anaconda3/envs/carnd-term1/lib/python3.5/site-packages/ipykernel/__main__.py:4: MatplotlibDeprecationWarning: pyplot.hold is deprecated.\n",
      "    Future behavior will be consistent with the long-time default:\n",
      "    plot commands add elements without first clearing the\n",
      "    Axes and/or Figure.\n",
      "/home/ubuntu/anaconda3/envs/carnd-term1/lib/python3.5/site-packages/matplotlib/__init__.py:917: UserWarning: axes.hold is deprecated. Please remove it from your matplotlibrc and/or style files.\n",
      "  warnings.warn(self.msg_depr_set % key)\n",
      "/home/ubuntu/anaconda3/envs/carnd-term1/lib/python3.5/site-packages/matplotlib/rcsetup.py:152: UserWarning: axes.hold is deprecated, will be removed in 3.0\n",
      "  warnings.warn(\"axes.hold is deprecated, will be removed in 3.0\")\n",
      "/home/ubuntu/anaconda3/envs/carnd-term1/lib/python3.5/site-packages/ipykernel/__main__.py:6: MatplotlibDeprecationWarning: pyplot.hold is deprecated.\n",
      "    Future behavior will be consistent with the long-time default:\n",
      "    plot commands add elements without first clearing the\n",
      "    Axes and/or Figure.\n"
     ]
    },
    {
     "data": {
      "image/png": "iVBORw0KGgoAAAANSUhEUgAAAZ4AAAEKCAYAAAAiizNaAAAABHNCSVQICAgIfAhkiAAAAAlwSFlz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\neMzMrKqceMzMrKqceMzMrKr+H0CyhIl+fB0AAAAAAElFTkSuQmCC\n",
      "text/plain": [
       "<matplotlib.figure.Figure at 0x7f003cc47e80>"
      ]
     },
     "metadata": {},
     "output_type": "display_data"
    }
   ],
   "source": [
    "plot_loss_vs_epochs(history.history['loss'][1:], history.history['val_loss'][1:])"
   ]
  }
 ],
 "metadata": {
  "anaconda-cloud": {},
  "kernelspec": {
   "display_name": "Python [conda env:carnd-term1]",
   "language": "python",
   "name": "conda-env-carnd-term1-py"
  },
  "language_info": {
   "codemirror_mode": {
    "name": "ipython",
    "version": 3
   },
   "file_extension": ".py",
   "mimetype": "text/x-python",
   "name": "python",
   "nbconvert_exporter": "python",
   "pygments_lexer": "ipython3",
   "version": "3.5.2"
  }
 },
 "nbformat": 4,
 "nbformat_minor": 1
}
